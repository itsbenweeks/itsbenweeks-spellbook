{
 "cells": [
  {
   "cell_type": "markdown",
   "metadata": {},
   "source": [
    "Given a 2 dimensional array of single characters, find a given word in a direction."
   ]
  },
  {
   "cell_type": "code",
   "execution_count": 34,
   "metadata": {},
   "outputs": [],
   "source": [
    "# Assume grid is an array of arrays.\n",
    "# Word is a string\n",
    "\n",
    "# grid = [\"ARB\",\"RED\",\"EBC\"]\n",
    "\n",
    "class WordSearch(object):\n",
    "    \"\"\"An object that takes a X * X grid of letters called \"grid\", and a String \"word\". \n",
    "    \n",
    "    Arguments:\n",
    "    \n",
    "    \"\"\"\n",
    "    def __init__(self, grid, word):\n",
    "        self.grid = grid\n",
    "        self.word = word\n",
    "        return self.run()\n",
    "\n",
    "    def run(self):\n",
    "        grid = self.grid\n",
    "        word = self.word\n",
    "        grid_width=len(grid[0])\n",
    "        grid_length=len(grid) #assume symmetry\n",
    "        word_position=0\n",
    "        result = False\n",
    "        for x in range(grid_width):\n",
    "            for y in range(grid_length):\n",
    "                if grid[y][x] is word[0]:\n",
    "    #                 print (\"Hello Neighbor!\")\n",
    "                    result = _check_neighbors(grid, x, y, word, word_position)\n",
    "                    if result is True:\n",
    "                        return result\n",
    "        return result\n",
    "\n",
    "    def _check_neighbors(self, x, y, word_position, past_x=None, past_y=None):\n",
    "        #TODO: Take delta of previous direction into account, and construct variance arrays accordingly.\n",
    "        word = self.word\n",
    "        grid = self.grid\n",
    "        word_position += 1\n",
    "        if past_x is None:\n",
    "            x_variances = [-1, 0, +1]\n",
    "            y_variances = [-1, 0, +1]\n",
    "        else:\n",
    "            x_variances = [x - past_x]\n",
    "            y_variances = [y - past_y]\n",
    "        for x_variance in x_variances:\n",
    "            for y_variance in y_variances:\n",
    "                new_x = x + x_variance\n",
    "                new_y = y + y_variance\n",
    "                if x_variance == 0 and y_variance == 0:\n",
    "                    pass\n",
    "                else: \n",
    "                    try:\n",
    "    #                     print(\"New_x={}\".format(new_x))\n",
    "    #                     print(\"New_y={}\".format(new_y))\n",
    "                        if grid[new_y][new_x]==word[word_position]:\n",
    "    #                         print(\"Word_position={}\".format(word_position+1))\n",
    "    #                         print(\"Word_Character={}\".format(word[word_position+1]))\n",
    "    #                         print(\"Grid_Character={}\".format(grid[new_y][new_x]))\n",
    "                            if word_position == len(word)-1:\n",
    "                                return True\n",
    "                            else:\n",
    "    #                             print(\"let's do it again!\")\n",
    "                                return _check_neighbors(new_x, new_y, word_position, x, y)\n",
    "                    except IndexError:\n",
    "                        pass\n",
    "        return False"
   ]
  },
  {
   "cell_type": "code",
   "execution_count": 35,
   "metadata": {},
   "outputs": [
    {
     "ename": "TypeError",
     "evalue": "__init__() should return None, not 'bool'",
     "output_type": "error",
     "traceback": [
      "\u001b[0;31m---------------------------------------------------------------------------\u001b[0m",
      "\u001b[0;31mTypeError\u001b[0m                                 Traceback (most recent call last)",
      "\u001b[0;32m<ipython-input-35-71af3e69908a>\u001b[0m in \u001b[0;36m<module>\u001b[0;34m()\u001b[0m\n\u001b[1;32m      1\u001b[0m \u001b[0mgrid\u001b[0m \u001b[0;34m=\u001b[0m \u001b[0;34m[\u001b[0m\u001b[0;34m\"ARB\"\u001b[0m\u001b[0;34m,\u001b[0m\u001b[0;34m\"RAD\"\u001b[0m\u001b[0;34m,\u001b[0m\u001b[0;34m\"EBC\"\u001b[0m\u001b[0;34m]\u001b[0m\u001b[0;34m\u001b[0m\u001b[0m\n\u001b[0;32m----> 2\u001b[0;31m \u001b[0mWordSearch\u001b[0m\u001b[0;34m(\u001b[0m\u001b[0mgrid\u001b[0m\u001b[0;34m,\u001b[0m \u001b[0;34m\"AAC\"\u001b[0m\u001b[0;34m)\u001b[0m\u001b[0;34m\u001b[0m\u001b[0m\n\u001b[0m",
      "\u001b[0;31mTypeError\u001b[0m: __init__() should return None, not 'bool'"
     ]
    }
   ],
   "source": [
    "grid = [\"ARB\",\"RAD\",\"EBC\"]\n",
    "WordSearch(grid, \"AAC\")"
   ]
  },
  {
   "cell_type": "code",
   "execution_count": 23,
   "metadata": {},
   "outputs": [
    {
     "name": "stdout",
     "output_type": "stream",
     "text": [
      "Test case 1: True\n"
     ]
    }
   ],
   "source": [
    "puzzle = ['jefblpepre',\n",
    "          'camdcimgtc',\n",
    "          'oivokprjsm',\n",
    "          'pbwasqroua',\n",
    "          'rixilelhrs',\n",
    "          'wolcqlirpc',\n",
    "          'screeaumgr',\n",
    "          'alxhpburyi',\n",
    "          'jalaycalmp',\n",
    "          'clojurermt']\n",
    "word = \"clojure\"\n",
    "\n",
    "print(\"Test case 1: {}\".format(word_search(puzzle, word)))\n"
   ]
  },
  {
   "cell_type": "code",
   "execution_count": 24,
   "metadata": {},
   "outputs": [
    {
     "name": "stdout",
     "output_type": "stream",
     "text": [
      "Test case 2: False\n"
     ]
    }
   ],
   "source": [
    "puzzle = ['jefblpepre',\n",
    "                  'camdcimgtc',\n",
    "                  'oivokprjsm',\n",
    "                  'pbwasqroua',\n",
    "                  'rixilelhrs',\n",
    "                  'wolcqlirpc',\n",
    "                  'fortranftw',\n",
    "                  'alxhpburyi',\n",
    "                  'clojurermt',\n",
    "                  'jalaycalmp']\n",
    "word = \"fortranz\"\n",
    "\n",
    "print(\"Test case 2: {}\".format(word_search(puzzle, word)))"
   ]
  },
  {
   "cell_type": "code",
   "execution_count": 30,
   "metadata": {},
   "outputs": [
    {
     "name": "stdout",
     "output_type": "stream",
     "text": [
      "X=0,Y=0\n",
      "X=0\n",
      "Y=0\n",
      "Y=1\n",
      "X=1\n"
     ]
    }
   ],
   "source": [
    "x,y=0,0\n",
    "print (\n",
    "    \"X={},Y={}\".format(x,y))\n",
    "for x in range(3):\n",
    "    print(\"X={}\".format(x))\n",
    "    if y is 1:\n",
    "        break\n",
    "    for y in range(3):\n",
    "        print(\"Y={}\".format(y))\n",
    "        if y is 1:\n",
    "            break"
   ]
  },
  {
   "cell_type": "code",
   "execution_count": null,
   "metadata": {},
   "outputs": [],
   "source": []
  }
 ],
 "metadata": {
  "kernelspec": {
   "display_name": "Python 3",
   "language": "python",
   "name": "python3"
  },
  "language_info": {
   "codemirror_mode": {
    "name": "ipython",
    "version": 3
   },
   "file_extension": ".py",
   "mimetype": "text/x-python",
   "name": "python",
   "nbconvert_exporter": "python",
   "pygments_lexer": "ipython3",
   "version": "3.6.3"
  }
 },
 "nbformat": 4,
 "nbformat_minor": 2
}
