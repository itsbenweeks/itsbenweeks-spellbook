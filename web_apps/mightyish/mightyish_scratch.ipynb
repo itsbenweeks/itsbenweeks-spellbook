{
 "cells": [
  {
   "cell_type": "code",
   "execution_count": 8,
   "metadata": {},
   "outputs": [],
   "source": [
    "import json\n",
    "\n",
    "json_file = open(\"test_payload.json\")\n",
    "test_payload = json.load(json_file)\n",
    "json_file.close()"
   ]
  },
  {
   "cell_type": "code",
   "execution_count": 18,
   "metadata": {},
   "outputs": [],
   "source": [
    "test_payload2 = {\n",
    "    'player': 'mightykid2',\n",
    "    'deviceID': 'MOMS_IPAD',\n",
    "    'progress': {\n",
    "        'timeStamp': '2019-01-22 01:10:11+0000',\n",
    "        'level': 1,\n",
    "        'score': 10,\n",
    "        'gameId': 'PACMAN'}\n",
    "}\n",
    "\n",
    "json_file2 = open(\"test_payload2.json\", \"w\")\n",
    "\n",
    "json_file2.write(json.dumps(test_payload2, indent=2))\n",
    "\n",
    "json_file2.close()\n",
    "\n",
    "test_payload3 = {\n",
    "    'player': 'mightykid2',\n",
    "    'deviceID': 'MOMS_IPAD',\n",
    "    'progress':  {\n",
    "        'timeStamp': '2019-01-22 01:11:11+0000',\n",
    "        'level': 2,\n",
    "        'score': 33,\n",
    "        'gameId': 'PACMAN'\n",
    "    }\n",
    "}\n",
    "json_file3 = open(\"test_payload3.json\", \"w\")\n",
    "json_file3.write(json.dumps(test_payload3, indent=2))\n",
    "json_file3.close()\n",
    "\n",
    "test_payload4 = {\n",
    "    'player': 'mightykid2',\n",
    "    'deviceID': 'MOMS_IPAD',\n",
    "    'progress':  {\n",
    "        'timeStamp': '2019-01-22 01:12:21+0000',\n",
    "        'level': 4,\n",
    "        'score': 345,\n",
    "        'gameId': 'SPACE_INVADERS'\n",
    "    }\n",
    "}\n",
    "json_file4 = open(\"test_payload4.json\", \"w\")\n",
    "json_file4.write(json.dumps(test_payload4, indent=2))\n",
    "json_file4.close()"
   ]
  },
  {
   "cell_type": "code",
   "execution_count": null,
   "metadata": {},
   "outputs": [],
   "source": []
  }
 ],
 "metadata": {
  "kernelspec": {
   "display_name": "Python 3",
   "language": "python",
   "name": "python3"
  },
  "language_info": {
   "codemirror_mode": {
    "name": "ipython",
    "version": 3
   },
   "file_extension": ".py",
   "mimetype": "text/x-python",
   "name": "python",
   "nbconvert_exporter": "python",
   "pygments_lexer": "ipython3",
   "version": "3.7.2"
  }
 },
 "nbformat": 4,
 "nbformat_minor": 2
}
