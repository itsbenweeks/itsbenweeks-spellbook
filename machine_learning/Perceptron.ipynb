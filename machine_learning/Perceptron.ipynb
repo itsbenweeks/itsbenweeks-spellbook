{
 "cells": [
  {
   "cell_type": "markdown",
   "metadata": {},
   "source": [
    "### CS767 - Project 1\n",
    "#### Ben Weeks"
   ]
  },
  {
   "cell_type": "code",
   "execution_count": 2,
   "metadata": {
    "collapsed": false
   },
   "outputs": [],
   "source": [
    "%matplotlib inline\n",
    "from numpy import dot, random, polyfit\n",
    "from numpy.linalg import norm\n",
    "from matplotlib.pyplot import plot, show\n",
    "\n",
    "class Perceptron(object):\n",
    "    def __init__(self):\n",
    "        self.w = random.rand(2)*2-1  # weight for a 2d problem\n",
    "        print (\"Initial Weights: {}\".format(self.w))\n",
    "        self.eta = 0.1\n",
    "        pass\n",
    "\n",
    "    def __unit_step(self, x):\n",
    "        result = x[0] * self.w[0] + x[1] * self.w[1]\n",
    "        if (result >= 0):\n",
    "            return 1\n",
    "        else:\n",
    "            return -1\n",
    "\n",
    "    def update_weights(self, x, delta_error):\n",
    "        self.w[0] += self.eta * delta_error * x[0]\n",
    "        self.w[1] += self.eta * delta_error * x[1]\n",
    "\n",
    "    def train(self, training_data, reverse = False):\n",
    "        \"\"\"\n",
    "        Trains off of training_data, must be array w/3 elements.\n",
    "        3rd element is expected output.\n",
    "        \"\"\"\n",
    "        learned = False\n",
    "        i = 0\n",
    "        u_w = 0\n",
    "        if reverse == True:\n",
    "            training_data = training_data[::-1]\n",
    "        while not learned:\n",
    "            total_error = 0.0\n",
    "            for x in training_data:\n",
    "                result = self.__unit_step(x)\n",
    "                if x[2] != result:\n",
    "                    delta_error = x[2] - result\n",
    "                    self.update_weights(x, delta_error)\n",
    "                    u_w += 1\n",
    "                    total_error += abs(delta_error)\n",
    "            i += 1\n",
    "            if total_error == 0.0 or i >= 100:\n",
    "                print 'Training Iterations: {}'.format(i)\n",
    "                print 'Weight Vector Updates: {}'.format(u_w)\n",
    "                learned = True\n",
    "    \n",
    "    def run(self, test_data):\n",
    "        print (\"Final Weights: {}\".format(self.w))\n",
    "        for x in test_data:\n",
    "            result = self.__unit_step(x)\n",
    "            if result != x[2]:\n",
    "                print 'Error'\n",
    "            if result == 1:\n",
    "                plot(x[0], x[1], c='r', marker='^')\n",
    "            else:\n",
    "                plot(x[0], x[1], c='b', marker='o')\n",
    "                \n",
    "        separation_norm = norm(perceptron.w)\n",
    "        ww = perceptron.w/separation_norm\n",
    "        x_slope = [ww[1], -ww[1]]\n",
    "        y_slope = [-ww[0], ww[0]]\n",
    "        plot(x_slope, y_slope, '--k')\n",
    "        slope, intercept = polyfit(x_slope, y_slope, 1)\n",
    "        print (\"Slope: {}\".format(slope))\n",
    "        print (\"Intercept: {}\".format(intercept))\n",
    "\n",
    "        show()\n",
    "            \n",
    "    def gen_data(self, n):\n",
    "        \"\"\"\n",
    "        This method will create linearlly separable data sets in a 1:1 ratio.\n",
    "        \"\"\"\n",
    "        gap = 0.45\n",
    "        x_a = (random.rand(n) * 2 - 1) / 2 - gap\n",
    "        x_b = (random.rand(n) * 2 - 1) / 2 + gap\n",
    "        y_a = (random.rand(n) * 2 - 1) / 2 + gap\n",
    "        y_b = (random.rand(n) * 2 - 1) / 2 - gap\n",
    "        data = []\n",
    "        for i in xrange(len(x_a)):\n",
    "            data.append([x_a[i], y_a[i], 1])\n",
    "            data.append([x_b[i], y_b[i], -1])\n",
    "        return data"
   ]
  },
  {
   "cell_type": "markdown",
   "metadata": {},
   "source": [
    "Now that we have a perceptron class with train and run functions, let's give it a shot:\n"
   ]
  },
  {
   "cell_type": "code",
   "execution_count": 3,
   "metadata": {
    "collapsed": false
   },
   "outputs": [
    {
     "name": "stdout",
     "output_type": "stream",
     "text": [
      "Initial Weights: [-0.16595599  0.44064899]\n",
      "Training Iterations: 36\n",
      "Weight Vector Updates: 35\n",
      "Final Weights: [-0.306111    0.13325781]\n",
      "Slope: 2.29713354915\n",
      "Intercept: -7.85046229342e-17\n"
     ]
    },
    {
     "data": {
      "image/png": "[encoded data removed]",
      "text/plain": [
       "<matplotlib.figure.Figure at 0x103771a10>"
      ]
     },
     "metadata": {},
     "output_type": "display_data"
    }
   ],
   "source": [
    "random.seed(1)\n",
    "perceptron = Perceptron()\n",
    "train_data = perceptron.gen_data(100)\n",
    "test_data = perceptron.gen_data(10)\n",
    "perceptron.train(train_data)\n",
    "perceptron.run(test_data)"
   ]
  },
  {
   "cell_type": "markdown",
   "metadata": {},
   "source": [
    "#### Are the training data points linearly separable?\n",
    "\n",
    "Yes, they are. I created a data generating function that produces a gap between datasets, making them linearly seperable."
   ]
  },
  {
   "cell_type": "markdown",
   "metadata": {},
   "source": [
    "#### Are the test points are linearly separable?\n",
    "\n",
    "Yes, see my response to the aboce quesiton."
   ]
  },
  {
   "cell_type": "markdown",
   "metadata": {},
   "source": [
    "#### Initial choice of the weights and constants.\n",
    "\n",
    "I left the weight up to chance, using a random function to determine them. The constant was set to $\\frac{1}{10}$."
   ]
  },
  {
   "cell_type": "markdown",
   "metadata": {},
   "source": [
    "#### The final solution equation of the line (decision boundary)\n",
    "\n",
    "For this set it was $y=2.29713354915\\,x - 7.85046229342 \\cdot 10^{-17}$.\n"
   ]
  },
  {
   "cell_type": "markdown",
   "metadata": {},
   "source": [
    "#### The total number of weight vector updates that your algorithm made.\n",
    "For this set it was 35 iterations of the weight vector update portion of training.\n"
   ]
  },
  {
   "cell_type": "markdown",
   "metadata": {},
   "source": [
    "#### The total number of iterations made over the training set, and\n",
    "For this set it was 36 iterations over the training set."
   ]
  },
  {
   "cell_type": "markdown",
   "metadata": {},
   "source": [
    "#### The final misclassification error, if any, on the training data and also on the test data.\n",
    "\n",
    "Unclear from my implementation, misclassification errors are not fully logged. Training runs until the global error count is 0 for the training set, or it goes through 100 iterations."
   ]
  },
  {
   "cell_type": "markdown",
   "metadata": {},
   "source": [
    "#### The initial choice of the weights,\n",
    "Let's do this again:"
   ]
  },
  {
   "cell_type": "code",
   "execution_count": 3,
   "metadata": {
    "collapsed": false
   },
   "outputs": [
    {
     "name": "stdout",
     "output_type": "stream",
     "text": [
      "Initial Weights: [-0.16595599  0.44064899]\n",
      "Reset weights: [-0.63946062 -0.96104952]\n",
      "Training Iterations: 3\n",
      "Weight Vector Updates: 10\n",
      "Final Weights: [-1.02563786  0.1877756 ]\n",
      "Slope: 5.4620402153\n",
      "Intercept: -7.85046229342e-17\n"
     ]
    },
    {
     "data": {
      "image/png": "[encoded data removed]",
      "text/plain": [
       "<matplotlib.figure.Figure at 0x10cd6b3d0>"
      ]
     },
     "metadata": {},
     "output_type": "display_data"
    }
   ],
   "source": [
    "random.seed(1)\n",
    "perceptron = Perceptron()\n",
    "train_data = perceptron.gen_data(100)\n",
    "test_data = perceptron.gen_data(10)\n",
    "random.seed(11)\n",
    "reset_weights = random.rand(2)*2-1\n",
    "print (\"Reset weights: {}\".format(reset_weights))\n",
    "perceptron.w = reset_weights\n",
    "perceptron.train(train_data)\n",
    "perceptron.run(test_data)"
   ]
  },
  {
   "cell_type": "markdown",
   "metadata": {},
   "source": [
    "As we can see, this ran for a few iterations fewer. The weights were closer to the final weight, and the slope was a bit sharper."
   ]
  },
  {
   "cell_type": "markdown",
   "metadata": {},
   "source": [
    "#### The initial choice of the step size constant (c),\n",
    "Let's do this again:"
   ]
  },
  {
   "cell_type": "code",
   "execution_count": 4,
   "metadata": {
    "collapsed": false
   },
   "outputs": [
    {
     "name": "stdout",
     "output_type": "stream",
     "text": [
      "Initial Weights: [-0.16595599  0.44064899]\n",
      "Training Iterations: 19\n",
      "Weight Vector Updates: 18\n",
      "Final Weights: [-0.31011543  0.12447521]\n",
      "Slope: 2.4913830324\n",
      "Intercept: -7.85046229342e-17\n"
     ]
    },
    {
     "data": {
      "image/png": "[encoded data removed]",
      "text/plain": [
       "<matplotlib.figure.Figure at 0x10cf010d0>"
      ]
     },
     "metadata": {},
     "output_type": "display_data"
    }
   ],
   "source": [
    "random.seed(1)\n",
    "perceptron = Perceptron()\n",
    "train_data = perceptron.gen_data(100)\n",
    "test_data = perceptron.gen_data(10)\n",
    "perceptron.eta = 0.2\n",
    "perceptron.train(train_data)\n",
    "perceptron.run(test_data)"
   ]
  },
  {
   "cell_type": "markdown",
   "metadata": {},
   "source": [
    "It looks like the number of iterations decreased."
   ]
  },
  {
   "cell_type": "markdown",
   "metadata": {},
   "source": [
    "#### The order in which you consider the points in the training set.\n",
    "Let's try this again:"
   ]
  },
  {
   "cell_type": "code",
   "execution_count": 5,
   "metadata": {
    "collapsed": false
   },
   "outputs": [
    {
     "name": "stdout",
     "output_type": "stream",
     "text": [
      "Initial Weights: [-0.16595599  0.44064899]\n",
      "Training Iterations: 36\n",
      "Weight Vector Updates: 35\n",
      "Final Weights: [-0.306111    0.13325781]\n",
      "Slope: 2.29713354915\n",
      "Intercept: -7.85046229342e-17\n"
     ]
    },
    {
     "data": {
      "image/png": "[encoded data removed]",
      "text/plain": [
       "<matplotlib.figure.Figure at 0x10cd79810>"
      ]
     },
     "metadata": {},
     "output_type": "display_data"
    }
   ],
   "source": [
    "random.seed(1)\n",
    "perceptron = Perceptron()\n",
    "train_data = perceptron.gen_data(100)\n",
    "test_data = perceptron.gen_data(10)\n",
    "perceptron.train(train_data, True)\n",
    "perceptron.run(test_data)"
   ]
  },
  {
   "cell_type": "markdown",
   "metadata": {},
   "source": [
    "Nothing seems to have changed with this."
   ]
  }
 ],
 "metadata": {
  "kernelspec": {
   "display_name": "Python 2",
   "language": "python",
   "name": "python2"
  },
  "language_info": {
   "codemirror_mode": {
    "name": "ipython",
    "version": 2
   },
   "file_extension": ".py",
   "mimetype": "text/x-python",
   "name": "python",
   "nbconvert_exporter": "python",
   "pygments_lexer": "ipython2",
   "version": "2.7.10"
  }
 },
 "nbformat": 4,
 "nbformat_minor": 0
}
