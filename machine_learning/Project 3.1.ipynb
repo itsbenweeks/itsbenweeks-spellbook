{
 "cells": [
  {
   "cell_type": "markdown",
   "metadata": {},
   "source": [
    "### Part A \n",
    "\n",
    "#### Implement a genetic algorithm (GA) for solving the problem of Project #1. Please use real-valued (not bit-string) representation, proportional selection, single-point crossover, and component-wise mutation. Make reasonable choices of the algorithm parameters and of the stopping condition. "
   ]
  },
  {
   "cell_type": "markdown",
   "metadata": {},
   "source": [
    "In creating this solution we must be aware of the method being outlined. There are several Genetric Algorithims (GAs) that could be used, but for one that is proportionally selective, containing a single-point crossover, and has a component-wise mutation the Island Model provides a very effective framework. There are some lexical differences in this method that do not match the terms provided for the problem. In the island model, we can refer to the subpopulation's crossover as a *migration* this is mildly different, and something to keep in mind for the future. Also, we will be refering to the proportional selection as an *island*. We will be utilizing this method with a single-point of crossover between this and other generations, in part because it is less computationally intensive and lends to parallel computing more easily, but also because it is somewhat easier to code. Also, there is a wonderful paper detailing how to sort linearly separable data sets with this GA method, (available at http://neo.lcc.uma.es/Articles/WRHxx.pdf.) Let's continue."
   ]
  },
  {
   "cell_type": "markdown",
   "metadata": {},
   "source": [
    "Below is my program for Project 1:"
   ]
  },
  {
   "cell_type": "code",
   "execution_count": 7,
   "metadata": {
    "collapsed": false
   },
   "outputs": [],
   "source": [
    "%matplotlib inline\n",
    "from numpy import dot, random, polyfit\n",
    "from numpy.linalg import norm\n",
    "from matplotlib.pyplot import plot, show\n",
    "\n",
    "class Island(object):\n",
    "    def __init__(self):\n",
    "        self.weight = random.rand(2)*2-1  # weight for a 2d problem\n",
    "        print (\"Initial Weights: {}\".format(self.weight))\n",
    "        self.eta = 0.1\n",
    "        pass\n",
    "\n",
    "    def __unit_step(self, point):\n",
    "        result = point[0] * self.weight[0] + point[1] * self.weight[1]\n",
    "        if (result >= 0):\n",
    "            return 1\n",
    "        else:\n",
    "            return -1\n",
    "\n",
    "    def update_weights(self, point, delta_error):\n",
    "        self.weight[0] += self.eta * delta_error * point[0]\n",
    "        self.weight[1] += self.eta * delta_error * point[1]\n",
    "\n",
    "    def train(self, training_data, reverse = False):\n",
    "        \"\"\"\n",
    "        Trains off of training_data, must be array w/3 elements.\n",
    "        3rd element is expected output.\n",
    "        \"\"\"\n",
    "        learned = False\n",
    "        i = 0\n",
    "        u_weight = 0\n",
    "        if reverse == True:\n",
    "            training_data = training_data[::-1]\n",
    "        while not learned:\n",
    "            total_error = 0.0\n",
    "            for point in training_data:\n",
    "                result = self.__unit_step(point)\n",
    "                if point[2] != result:\n",
    "                    delta_error = point[2] - result\n",
    "                    self.update_weights(point, delta_error)\n",
    "                    u_weight += 1\n",
    "                    total_error += abs(delta_error)\n",
    "            i += 1\n",
    "            if total_error == 0.0 or i >= 100:\n",
    "                print 'Training Iterations: {}'.format(i)\n",
    "                print 'Weight Vector Updates: {}'.format(u_weight)\n",
    "                learned = True\n",
    "    \n",
    "    def run(self, test_data):\n",
    "        print (\"Final Weights: {}\".format(self.weight))\n",
    "        for point in test_data:\n",
    "            result = self.__unit_step(point)\n",
    "            if result != point[2]:\n",
    "                print 'Error'\n",
    "            if result == 1:\n",
    "                plot(point[0], point[1], c='r', marker='^')\n",
    "            else:\n",
    "                plot(point[0], point[1], c='b', marker='o')\n",
    "                \n",
    "        separation_norm = norm(self.weight)\n",
    "        ww = self.weight/separation_norm\n",
    "        x_slope = [ww[1], -ww[1]]\n",
    "        y_slope = [-ww[0], ww[0]]\n",
    "        plot(x_slope, y_slope, '--k')\n",
    "        slope, intercept = polyfit(x_slope, y_slope, 1)\n",
    "        print (\"Slope: {}\".format(slope))\n",
    "        print (\"Intercept: {}\".format(intercept))\n",
    "\n",
    "        show()\n",
    "            \n",
    "    def gen_data(self, n):\n",
    "        \"\"\"\n",
    "        This method will create linearlly separable data sets in a 1:1 ratio.\n",
    "        \"\"\"\n",
    "        gap = 0.45\n",
    "        x_a = (random.rand(n) * 2 - 1) / 2 - gap\n",
    "        x_b = (random.rand(n) * 2 - 1) / 2 + gap\n",
    "        y_a = (random.rand(n) * 2 - 1) / 2 + gap\n",
    "        y_b = (random.rand(n) * 2 - 1) / 2 - gap\n",
    "        data = []\n",
    "        for i in xrange(len(x_a)):\n",
    "            data.append([x_a[i], y_a[i], 1])\n",
    "            data.append([x_b[i], y_b[i], -1])\n",
    "        return data"
   ]
  },
  {
   "cell_type": "code",
   "execution_count": 11,
   "metadata": {
    "collapsed": false
   },
   "outputs": [
    {
     "name": "stdout",
     "output_type": "stream",
     "text": [
      "Initial Weights: [-0.1280102  -0.94814754]\n",
      "Training Iterations: 3\n",
      "Weight Vector Updates: 13\n",
      "Final Weights: [-0.76258544  0.24593129]\n",
      "Slope: 3.10080693837\n",
      "Intercept: -7.85046229342e-17\n"
     ]
    },
    {
     "data": {
      "image/png": "[encoded data removed]",
      "text/plain": [
       "<matplotlib.figure.Figure at 0x105d7d750>"
      ]
     },
     "metadata": {},
     "output_type": "display_data"
    }
   ],
   "source": [
    "random.seed(2)\n",
    "island = Island()\n",
    "train_data = island.gen_data(100)\n",
    "test_data = island.gen_data(10)\n",
    "island.train(train_data)\n",
    "island.run(test_data)"
   ]
  },
  {
   "cell_type": "markdown",
   "metadata": {},
   "source": [
    "There isn't much here that I can use, really. I generate some data, great. I can also test for linear separability, other than that we'll have to start over. Remember that there are 6 main things that a GA should do:\n",
    "\n",
    "1. Generate random population of $n$.\n",
    "1. Evaluate fitness of $f(x)$ in population.\n",
    "1. Create a new population by...\n",
    "  1. Selecing two chromosomes, determine their fitness.\n",
    "  1. Cross points to form new solutions.\n",
    "  1. Mutate the solution with randomness.\n",
    "  1. Place new solution in the population.\n",
    "1. Use the new popation in the solution.\n",
    "1. Test for the end condition, stop if it is satisfied and return the solution.\n",
    "1. Look back up to the second step if not."
   ]
  },
  {
   "cell_type": "code",
   "execution_count": 13,
   "metadata": {
    "collapsed": false
   },
   "outputs": [
    {
     "ename": "SyntaxError",
     "evalue": "invalid syntax (<ipython-input-13-61f2a02b3d6e>, line 19)",
     "output_type": "error",
     "traceback": [
      "\u001b[0;36m  File \u001b[0;32m\"<ipython-input-13-61f2a02b3d6e>\"\u001b[0;36m, line \u001b[0;32m19\u001b[0m\n\u001b[0;31m    (/, random.seed(0))\u001b[0m\n\u001b[0m     ^\u001b[0m\n\u001b[0;31mSyntaxError\u001b[0m\u001b[0;31m:\u001b[0m invalid syntax\n"
     ]
    }
   ],
   "source": [
    "import random\n",
    "random.seed(0)\n",
    "\n",
    "def _generate_parent(length, sequence):\n",
    "    genes = []\n",
    "    while len(genes) < length:\n",
    "        sampleSize = min(length - len(genes), len(sequence))\n",
    "        genes.extend(random.sample(sequence, sampleSize))\n",
    "    return ''.join(genes)\n",
    "\n",
    "def _mutate(parent, sequence):\n",
    "    index = random.randrange(0, len(parent))\n",
    "    childGenes = list(parent)\n",
    "    newGene, alternate = random.sample(sequence, 2)\n",
    "    childGenes[index] = alternate \\\n",
    "        if newGene == childGenes[index] \\\n",
    "        else newGene\n",
    "    return ''.join(childGenes)\n",
    "\n",
    "def get_best(get_fitness, targetLength, optimalFitness, sequence, display):\n",
    "    // random.seed(0)\n",
    "    bestParent = _generate_parent(targetLength, sequence)\n",
    "    bestFitness = get_fitness(bestParent)\n",
    "    display(bestParent)\n",
    "    if bestFitness >= optimalFitness:\n",
    "        return bestParent\n",
    "    \n",
    "    while True:\n",
    "        child = _mutate(bestParent, geneSet)\n",
    "        childFitness = get_fitness(bestParent)\n",
    "\n",
    "        if bestFitness >= childFitness:\n",
    "            continue\n",
    "        display(child)\n",
    "        if childFitness >= optimalFitness:\n",
    "            return child\n",
    "        bestFitness = childFitness\n",
    "        bestParent = child"
   ]
  },
  {
   "cell_type": "markdown",
   "metadata": {},
   "source": [
    "The code to this effect will allow us to resolve to complete ≈100 runs. Let's forget about this, and actually work with the problem at hand... \n",
    "\n",
    "### Part B\n",
    "#### Next, carefully study the PEM fuel cell (PEMFC) problem in the uploaded paper (Energy Journal). Modify the GA (that you already wrote in Part A) for this problem. Finally, implement the heuristic in the Journal of Power Sources (JPS) paper (also uploaded) for the same problem (that is, the PEMFC problem in the Energy paper). The final report should include an empirical comparison of the two approaches (GA and the JPS paper’s method) for the PEMFC problem. The ideal goal is to propose some new improvement to the JPS algorithm. "
   ]
  },
  {
   "cell_type": "markdown",
   "metadata": {},
   "source": [
    "So, let's take a look the PEM paper. According to it...\n",
    "\n",
    "The problem that this paper addresses is how to find optimal values of the seven parameters, $x_1, x_2, x_3, x_4, l, RC, B$, such that a model that best fits a given PEMFC stack can be created.\n",
    "\n",
    "Be mindful of Table 3 from the Journal of Energy paper, we can gather the upper and lower bounds for these problems."
   ]
  },
  {
   "cell_type": "markdown",
   "metadata": {},
   "source": [
    "Some other things to consider:\n",
    "\n",
    "1. Run over a fixed # of intervals, (each iteration over a group.) \n",
    "  * **GA** once for 5000 evals $\\to$ one test of run fitness.\n",
    "  * **JPS** once for 5000 evals $\\to$ one test of run fitness.\n",
    "1. Fix a fitness, say, 0.07. Report # of eval\n",
    "1. Number of failures, $\\frac{how\\ many}{30}$."
   ]
  },
  {
   "cell_type": "code",
   "execution_count": 18,
   "metadata": {
    "collapsed": false
   },
   "outputs": [
    {
     "ename": "IndentationError",
     "evalue": "expected an indented block (<ipython-input-18-c8bca8750025>, line 12)",
     "output_type": "error",
     "traceback": [
      "\u001b[0;36m  File \u001b[0;32m\"<ipython-input-18-c8bca8750025>\"\u001b[0;36m, line \u001b[0;32m12\u001b[0m\n\u001b[0;31m    def determine_fitness(fitness_function, population):\u001b[0m\n\u001b[0m                                                        ^\u001b[0m\n\u001b[0;31mIndentationError\u001b[0m\u001b[0;31m:\u001b[0m expected an indented block\n"
     ]
    }
   ],
   "source": [
    "import numpy as np\n",
    "\n",
    "def generate_population(\n",
    "    population_matrix,\n",
    "    random_seeded=True):\n",
    "    \n",
    "    if random_seeded:\n",
    "        np.random.seed(0)\n",
    "    population_buffer=[]\n",
    "    for point in population_matrix:\n",
    "        if type(point)==tuple or type(point)==list:\n",
    "            population_buffer.add((point[2] - point[1]) * np.random.random_sample() + point[2])\n",
    "        else:\n",
    "            population_buffer.add(np.random.random_sample())\n",
    "            \n",
    "    population = np.ndarray(shape=(len(population_matrix),), buffer=population_buffer)\n",
    "            \n",
    "    \n",
    "def determine_fitness(fitness_function, population):\n",
    "    pass\n",
    "\n",
    "def select_solution(fitness_matrix):\n",
    "    pass\n",
    "\n",
    "def crossover_solutions(solution_matrix_1, solution_matrix_2):\n",
    "    pass\n",
    "\n",
    "def mutate_solution(solution_matrix):\n",
    "    pass    "
   ]
  },
  {
   "cell_type": "code",
   "execution_count": null,
   "metadata": {
    "collapsed": true
   },
   "outputs": [],
   "source": []
  }
 ],
 "metadata": {
  "kernelspec": {
   "display_name": "Python 2",
   "language": "python",
   "name": "python2"
  },
  "language_info": {
   "codemirror_mode": {
    "name": "ipython",
    "version": 2
   },
   "file_extension": ".py",
   "mimetype": "text/x-python",
   "name": "python",
   "nbconvert_exporter": "python",
   "pygments_lexer": "ipython2",
   "version": "2.7.10"
  }
 },
 "nbformat": 4,
 "nbformat_minor": 0
}
