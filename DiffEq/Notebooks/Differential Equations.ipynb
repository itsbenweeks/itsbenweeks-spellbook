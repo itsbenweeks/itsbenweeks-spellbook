{
 "metadata": {
  "name": "Differential Equations"
 },
 "nbformat": 3,
 "nbformat_minor": 0,
 "worksheets": [
  {
   "cells": [
    {
     "cell_type": "markdown",
     "metadata": {},
     "source": [
      "#Ch. 4\n",
      "\n",
      "##Method of Undetermined Coefficients\n",
      "\n",
      "To find the solution of $ ay''+by'+cy = Ct^{m}e^{rt} $, use the form,\n",
      "$\\\\\\\\y_{p}(t)=t^{s}(A_{m}t^{m}+ \\dots + A_{1}t+A_{0})e^{rt}$,\n",
      "such that:\n",
      "\n",
      "1.  $s= 0$ if $r$ is not a root of the associated auxiliary equation;\n",
      "1.  $s= 1$ if $r$ is a simple root of the associated auxiliary equation; and\n",
      "1.  $s= 2$ if $r$ is a double root of the associated auxiliary equation.\n",
      "\n",
      "    In order to find a particular solution to the DE $ay^{n} + by' + cy = Ct^{m}e^{ \\alpha t} cos \\beta t$ or $ay'' + by'  + cy = Ct^{m}e^{\\alpha t}sin \\beta t$ use the following form:\n",
      "\n",
      "    $$y_{p}(t) = t^{s}(A_{m}t^{m}+ \\dots + A_{1}t+A_{0})e^{\\alpha t}cos \\beta t + t^{s}(B_{m}t^{m}+ \\dots +B_{1}t+B_{0})e^{\\alpha t}sin \\beta t$$\n",
      "    with\n",
      "\n",
      "1.  $s = 0$ if $\\alpha + i \\beta$ is not a root of the associated auxiliary equation; and\n",
      "1.  $s = 1$ if $\\alpha + i \\beta$ is a root of the associated auxiliary equation."
     ]
    },
    {
     "cell_type": "markdown",
     "metadata": {},
     "source": [
      "###In-class problem [4.4.22]\n",
      "$$y'''-2y''-4y'+8y=6xe^{2x}\\\\\\\\ \n",
      "m^3-m^2-4m+8=0 \\Rightarrow m^2(m-2)-4(m-2)=0 \\Rightarrow (m-2)(m^2-4)=0 \\Rightarrow (m-2)^2(m+2)=0\\\\\\\\ \n",
      "m=2; m=2; m=-2\\\\\\\\$$\n",
      "**Note above that $m=2$ occurs twice, and is therefore a double root.**\n",
      "\n",
      "$$y_{c}=c_1e^{2x}+c_2xe^{2x}+c_3e^{-2x}\\\\\\\\\n",
      "y_p=x^2(Ax+B)e^{2x}=(Ax^3+Bx^2)e^{2x}\\\\\\\\\n",
      "y'_p=e^{2x}(2Ax^3+4Ax^2+2Bx^2+2Bx)\\\\\\\\\n",
      "y''_p=e^{2x}(4Ax^3+12Ax^2+6Ax+4Bx^2+8Bx+2B)\\\\\\\\\n",
      "y'''_p=e^{2x}(8Ax^3+36Ax^2+36Ax+6A+8Bx^2+24Bx+8B)$$\n",
      "\n",
      "Substituting these values of $y$, $y'$, $y''$, and $y'''$ back into the original problem give us the following problem:\n",
      "\n",
      "$6A+8B=0 \\Rightarrow A=1/3 \\Rightarrow B=-3/16$"
     ]
    },
    {
     "cell_type": "markdown",
     "metadata": {},
     "source": [
      "We can use the method of undetermined coefficients when one of the following is met:\n",
      "\n",
      "* $P(x)=A_nX^n+A_{n-1}x^{n-1}+\\dots+A_1x+A_0$\n",
      "* $P(x) e^{\\alpha x}$\n",
      "* $P(x)e^{\\alpha x}sin \\beta x$\n",
      "* $P(x)e^{\\alpha x}cos\\beta x$"
     ]
    },
    {
     "cell_type": "code",
     "collapsed": false,
     "input": [],
     "language": "python",
     "metadata": {},
     "outputs": []
    }
   ],
   "metadata": {}
  }
 ]
}